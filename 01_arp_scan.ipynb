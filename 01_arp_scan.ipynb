{
 "cells": [
  {
   "cell_type": "markdown",
   "metadata": {},
   "source": [
    "# Scapy built-in arping method"
   ]
  },
  {
   "cell_type": "code",
   "execution_count": 1,
   "metadata": {},
   "outputs": [],
   "source": [
    "import scapy.all as scapy"
   ]
  },
  {
   "cell_type": "code",
   "execution_count": 2,
   "metadata": {},
   "outputs": [
    {
     "name": "stdout",
     "output_type": "stream",
     "text": [
      "Begin emission:\n",
      "Finished sending 256 packets.\n",
      "\n",
      "Received 4 packets, got 4 answers, remaining 252 packets\n",
      "  52:54:00:12:35:00 10.0.2.1\n",
      "  08:00:27:fc:63:31 10.0.2.3\n",
      "  52:54:00:12:35:00 10.0.2.2\n",
      "  08:00:27:10:b8:d0 10.0.2.4\n"
     ]
    },
    {
     "data": {
      "text/plain": [
       "(<ARPing: TCP:0 UDP:0 ICMP:0 Other:4>,\n",
       " <Unanswered: TCP:0 UDP:0 ICMP:0 Other:252>)"
      ]
     },
     "execution_count": 2,
     "metadata": {},
     "output_type": "execute_result"
    }
   ],
   "source": [
    "scapy.arping('10.0.2.1/24')"
   ]
  },
  {
   "cell_type": "markdown",
   "metadata": {},
   "source": [
    "# Crafting an ARP broadcast packet"
   ]
  },
  {
   "cell_type": "code",
   "execution_count": 3,
   "metadata": {},
   "outputs": [
    {
     "name": "stdout",
     "output_type": "stream",
     "text": [
      "hwtype     : XShortField                         = 1               (1)\n",
      "ptype      : XShortEnumField                     = 2048            (2048)\n",
      "hwlen      : ByteField                           = 6               (6)\n",
      "plen       : ByteField                           = 4               (4)\n",
      "op         : ShortEnumField                      = 1               (1)\n",
      "hwsrc      : ARPSourceMACField                   = '08:00:27:74:17:d4' (None)\n",
      "psrc       : SourceIPField                       = '10.0.2.15'     (None)\n",
      "hwdst      : MACField                            = '00:00:00:00:00:00' ('00:00:00:00:00:00')\n",
      "pdst       : IPField                             = '0.0.0.0'       ('0.0.0.0')\n"
     ]
    }
   ],
   "source": [
    "scapy.ls(scapy.ARP())"
   ]
  },
  {
   "cell_type": "code",
   "execution_count": 4,
   "metadata": {},
   "outputs": [
    {
     "data": {
      "text/plain": [
       "'ARP who has 10.0.2.1 says 10.0.2.15'"
      ]
     },
     "execution_count": 4,
     "metadata": {},
     "output_type": "execute_result"
    }
   ],
   "source": [
    "arp_request = scapy.ARP()\n",
    "arp_request.pdst='10.0.2.1'\n",
    "arp_request.summary()"
   ]
  },
  {
   "cell_type": "code",
   "execution_count": 5,
   "metadata": {},
   "outputs": [
    {
     "name": "stdout",
     "output_type": "stream",
     "text": [
      "dst        : DestMACField                        = 'ff:ff:ff:ff:ff:ff' (None)\n",
      "src        : SourceMACField                      = '08:00:27:74:17:d4' (None)\n",
      "type       : XShortEnumField                     = 36864           (36864)\n"
     ]
    }
   ],
   "source": [
    "scapy.ls(scapy.Ether())"
   ]
  },
  {
   "cell_type": "code",
   "execution_count": 6,
   "metadata": {},
   "outputs": [
    {
     "name": "stdout",
     "output_type": "stream",
     "text": [
      "08:00:27:74:17:d4 > ff:ff:ff:ff:ff:ff (0x9000)\n"
     ]
    }
   ],
   "source": [
    "ether_broadcast_frame = scapy.Ether()\n",
    "ether_broadcast_frame.dst = 'ff:ff:ff:ff:ff:ff'\n",
    "print(ether_broadcast_frame.summary())"
   ]
  },
  {
   "cell_type": "code",
   "execution_count": 7,
   "metadata": {},
   "outputs": [
    {
     "data": {
      "text/plain": [
       "'Ether / ARP who has 10.0.2.1 says 10.0.2.15'"
      ]
     },
     "execution_count": 7,
     "metadata": {},
     "output_type": "execute_result"
    }
   ],
   "source": [
    "arp_packet = ether_broadcast_frame/arp_request\n",
    "arp_packet.summary()"
   ]
  },
  {
   "cell_type": "code",
   "execution_count": 8,
   "metadata": {},
   "outputs": [
    {
     "name": "stdout",
     "output_type": "stream",
     "text": [
      "###[ Ethernet ]### \n",
      "  dst       = ff:ff:ff:ff:ff:ff\n",
      "  src       = 08:00:27:74:17:d4\n",
      "  type      = 0x806\n",
      "###[ ARP ]### \n",
      "     hwtype    = 0x1\n",
      "     ptype     = 0x800\n",
      "     hwlen     = 6\n",
      "     plen      = 4\n",
      "     op        = who-has\n",
      "     hwsrc     = 08:00:27:74:17:d4\n",
      "     psrc      = 10.0.2.15\n",
      "     hwdst     = 00:00:00:00:00:00\n",
      "     pdst      = 10.0.2.1\n",
      "\n"
     ]
    }
   ],
   "source": [
    "arp_packet.show()"
   ]
  },
  {
   "cell_type": "code",
   "execution_count": 9,
   "metadata": {},
   "outputs": [
    {
     "name": "stdout",
     "output_type": "stream",
     "text": [
      "Begin emission:\n",
      "Finished sending 1 packets.\n",
      "\n",
      "Received 1 packets, got 1 answers, remaining 0 packets\n"
     ]
    }
   ],
   "source": [
    "answered, unanswered = scapy.srp(arp_packet, timeout=1)"
   ]
  },
  {
   "cell_type": "code",
   "execution_count": 10,
   "metadata": {},
   "outputs": [
    {
     "name": "stdout",
     "output_type": "stream",
     "text": [
      "Ether / ARP who has 10.0.2.1 says 10.0.2.15 ==> Ether / ARP is at 52:54:00:12:35:00 says 10.0.2.1 / Padding\n"
     ]
    }
   ],
   "source": [
    "answered.summary()"
   ]
  },
  {
   "cell_type": "markdown",
   "metadata": {},
   "source": [
    "# Crafting our ARP scanning method"
   ]
  },
  {
   "cell_type": "code",
   "execution_count": 11,
   "metadata": {},
   "outputs": [],
   "source": [
    "def arp_scan(target):\n",
    "    arp = scapy.ARP(pdst=target)\n",
    "    ether = scapy.Ether(dst='ff:ff:ff:ff:ff:ff')\n",
    "    ans, unans = scapy.srp(ether/arp, timeout=1, retry=10, verbose=False)\n",
    "    \n",
    "    print()\n",
    "    for item in ans:\n",
    "        print('==================================================\\n')\n",
    "        item[1].show()\n",
    "    print('==================================================')\n",
    "    \n",
    "    results = []\n",
    "    for item in ans:\n",
    "        results.append({'IP': item[1].psrc, 'MAC': item[1].hwsrc})\n",
    "    return results"
   ]
  },
  {
   "cell_type": "code",
   "execution_count": 12,
   "metadata": {},
   "outputs": [
    {
     "name": "stdout",
     "output_type": "stream",
     "text": [
      "\n",
      "==================================================\n",
      "\n",
      "###[ Ethernet ]### \n",
      "  dst       = 08:00:27:74:17:d4\n",
      "  src       = 52:54:00:12:35:00\n",
      "  type      = 0x806\n",
      "###[ ARP ]### \n",
      "     hwtype    = 0x1\n",
      "     ptype     = 0x800\n",
      "     hwlen     = 6\n",
      "     plen      = 4\n",
      "     op        = is-at\n",
      "     hwsrc     = 52:54:00:12:35:00\n",
      "     psrc      = 10.0.2.1\n",
      "     hwdst     = 08:00:27:74:17:d4\n",
      "     pdst      = 10.0.2.15\n",
      "###[ Padding ]### \n",
      "        load      = '\\x00\\x00\\x00\\x00\\x00\\x00\\x00\\x00\\x00\\x00\\x00\\x00\\x00\\x00\\x00\\x00\\x00\\x00'\n",
      "\n",
      "==================================================\n",
      "\n",
      "###[ Ethernet ]### \n",
      "  dst       = 08:00:27:74:17:d4\n",
      "  src       = 52:54:00:12:35:00\n",
      "  type      = 0x806\n",
      "###[ ARP ]### \n",
      "     hwtype    = 0x1\n",
      "     ptype     = 0x800\n",
      "     hwlen     = 6\n",
      "     plen      = 4\n",
      "     op        = is-at\n",
      "     hwsrc     = 52:54:00:12:35:00\n",
      "     psrc      = 10.0.2.2\n",
      "     hwdst     = 08:00:27:74:17:d4\n",
      "     pdst      = 10.0.2.15\n",
      "###[ Padding ]### \n",
      "        load      = '\\x00\\x00\\x00\\x00\\x00\\x00\\x00\\x00\\x00\\x00\\x00\\x00\\x00\\x00\\x00\\x00\\x00\\x00'\n",
      "\n",
      "==================================================\n",
      "\n",
      "###[ Ethernet ]### \n",
      "  dst       = 08:00:27:74:17:d4\n",
      "  src       = 08:00:27:fc:63:31\n",
      "  type      = 0x806\n",
      "###[ ARP ]### \n",
      "     hwtype    = 0x1\n",
      "     ptype     = 0x800\n",
      "     hwlen     = 6\n",
      "     plen      = 4\n",
      "     op        = is-at\n",
      "     hwsrc     = 08:00:27:fc:63:31\n",
      "     psrc      = 10.0.2.3\n",
      "     hwdst     = 08:00:27:74:17:d4\n",
      "     pdst      = 10.0.2.15\n",
      "###[ Padding ]### \n",
      "        load      = '\\x00\\x00\\x00\\x00\\x00\\x00\\x00\\x00\\x00\\x00\\x00\\x00\\x00\\x00\\x00\\x00\\x00\\x00'\n",
      "\n",
      "==================================================\n",
      "\n",
      "###[ Ethernet ]### \n",
      "  dst       = 08:00:27:74:17:d4\n",
      "  src       = 08:00:27:10:b8:d0\n",
      "  type      = 0x806\n",
      "###[ ARP ]### \n",
      "     hwtype    = 0x1\n",
      "     ptype     = 0x800\n",
      "     hwlen     = 6\n",
      "     plen      = 4\n",
      "     op        = is-at\n",
      "     hwsrc     = 08:00:27:10:b8:d0\n",
      "     psrc      = 10.0.2.4\n",
      "     hwdst     = 08:00:27:74:17:d4\n",
      "     pdst      = 10.0.2.15\n",
      "###[ Padding ]### \n",
      "        load      = '\\x00\\x00\\x00\\x00\\x00\\x00\\x00\\x00\\x00\\x00\\x00\\x00\\x00\\x00\\x00\\x00\\x00\\x00'\n",
      "\n",
      "==================================================\n"
     ]
    }
   ],
   "source": [
    "results = arp_scan('10.0.2.1/24')"
   ]
  },
  {
   "cell_type": "code",
   "execution_count": 13,
   "metadata": {},
   "outputs": [
    {
     "name": "stdout",
     "output_type": "stream",
     "text": [
      "         IP                MAC\n",
      "0  10.0.2.1  52:54:00:12:35:00\n",
      "1  10.0.2.2  52:54:00:12:35:00\n",
      "2  10.0.2.3  08:00:27:fc:63:31\n",
      "3  10.0.2.4  08:00:27:10:b8:d0\n"
     ]
    }
   ],
   "source": [
    "import pandas as pd\n",
    "print(pd.DataFrame(results))"
   ]
  },
  {
   "cell_type": "code",
   "execution_count": null,
   "metadata": {},
   "outputs": [],
   "source": []
  }
 ],
 "metadata": {
  "kernelspec": {
   "display_name": "Python 3",
   "language": "python",
   "name": "python3"
  },
  "language_info": {
   "codemirror_mode": {
    "name": "ipython",
    "version": 3
   },
   "file_extension": ".py",
   "mimetype": "text/x-python",
   "name": "python",
   "nbconvert_exporter": "python",
   "pygments_lexer": "ipython3",
   "version": "3.7.0"
  }
 },
 "nbformat": 4,
 "nbformat_minor": 2
}
